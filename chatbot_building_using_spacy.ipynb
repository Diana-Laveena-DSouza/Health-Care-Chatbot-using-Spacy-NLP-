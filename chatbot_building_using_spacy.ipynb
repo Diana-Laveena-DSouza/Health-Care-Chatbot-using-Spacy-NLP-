{
 "cells": [
  {
   "cell_type": "code",
   "execution_count": 1,
   "id": "df29acde",
   "metadata": {},
   "outputs": [],
   "source": [
    "import nltk\n",
    "from fuzzywuzzy import process\n",
    "from sklearn.feature_extraction.text import TfidfVectorizer\n",
    "import spacy\n",
    "import pandas as pd\n",
    "from nltk.corpus import stopwords\n",
    "from sklearn.metrics.pairwise import cosine_similarity\n",
    "import numpy as np\n",
    "nlp = spacy.load('en_core_web_sm')"
   ]
  },
  {
   "cell_type": "code",
   "execution_count": 2,
   "id": "e11ff4fe",
   "metadata": {},
   "outputs": [
    {
     "data": {
      "text/html": [
       "<div>\n",
       "<style scoped>\n",
       "    .dataframe tbody tr th:only-of-type {\n",
       "        vertical-align: middle;\n",
       "    }\n",
       "\n",
       "    .dataframe tbody tr th {\n",
       "        vertical-align: top;\n",
       "    }\n",
       "\n",
       "    .dataframe thead th {\n",
       "        text-align: right;\n",
       "    }\n",
       "</style>\n",
       "<table border=\"1\" class=\"dataframe\">\n",
       "  <thead>\n",
       "    <tr style=\"text-align: right;\">\n",
       "      <th></th>\n",
       "      <th>intent_model</th>\n",
       "    </tr>\n",
       "  </thead>\n",
       "  <tbody>\n",
       "    <tr>\n",
       "      <th>0</th>\n",
       "      <td>{'context': 'appointment', 'utterances': ['I n...</td>\n",
       "    </tr>\n",
       "    <tr>\n",
       "      <th>1</th>\n",
       "      <td>{'context': 'insurance', 'utterances': ['Need ...</td>\n",
       "    </tr>\n",
       "    <tr>\n",
       "      <th>2</th>\n",
       "      <td>{'context': 'lab', 'utterances': ['Need to und...</td>\n",
       "    </tr>\n",
       "  </tbody>\n",
       "</table>\n",
       "</div>"
      ],
      "text/plain": [
       "                                        intent_model\n",
       "0  {'context': 'appointment', 'utterances': ['I n...\n",
       "1  {'context': 'insurance', 'utterances': ['Need ...\n",
       "2  {'context': 'lab', 'utterances': ['Need to und..."
      ]
     },
     "execution_count": 2,
     "metadata": {},
     "output_type": "execute_result"
    }
   ],
   "source": [
    "#Load File\n",
    "data = pd.read_json(\"intents.json\")\n",
    "data"
   ]
  },
  {
   "cell_type": "code",
   "execution_count": 3,
   "id": "f28e854f",
   "metadata": {},
   "outputs": [
    {
     "data": {
      "text/html": [
       "<div>\n",
       "<style scoped>\n",
       "    .dataframe tbody tr th:only-of-type {\n",
       "        vertical-align: middle;\n",
       "    }\n",
       "\n",
       "    .dataframe tbody tr th {\n",
       "        vertical-align: top;\n",
       "    }\n",
       "\n",
       "    .dataframe thead th {\n",
       "        text-align: right;\n",
       "    }\n",
       "</style>\n",
       "<table border=\"1\" class=\"dataframe\">\n",
       "  <thead>\n",
       "    <tr style=\"text-align: right;\">\n",
       "      <th></th>\n",
       "      <th>context</th>\n",
       "      <th>utterances</th>\n",
       "    </tr>\n",
       "  </thead>\n",
       "  <tbody>\n",
       "    <tr>\n",
       "      <th>0</th>\n",
       "      <td>appointment</td>\n",
       "      <td>[I need help with doctor appointment, I am loo...</td>\n",
       "    </tr>\n",
       "    <tr>\n",
       "      <th>1</th>\n",
       "      <td>insurance</td>\n",
       "      <td>[Need help with insurance claim, What are the ...</td>\n",
       "    </tr>\n",
       "    <tr>\n",
       "      <th>2</th>\n",
       "      <td>lab</td>\n",
       "      <td>[Need to undergo diagnosis, How much is the la...</td>\n",
       "    </tr>\n",
       "  </tbody>\n",
       "</table>\n",
       "</div>"
      ],
      "text/plain": [
       "       context                                         utterances\n",
       "0  appointment  [I need help with doctor appointment, I am loo...\n",
       "1    insurance  [Need help with insurance claim, What are the ...\n",
       "2          lab  [Need to undergo diagnosis, How much is the la..."
      ]
     },
     "execution_count": 3,
     "metadata": {},
     "output_type": "execute_result"
    }
   ],
   "source": [
    "#Normalize\n",
    "intents = pd.json_normalize(data['intent_model'])\n",
    "intents"
   ]
  },
  {
   "cell_type": "code",
   "execution_count": 4,
   "id": "f1cdd3d4",
   "metadata": {},
   "outputs": [
    {
     "data": {
      "text/plain": [
       "['I need help with doctor appointment',\n",
       " 'I am looking for appointment',\n",
       " 'Is the doctor available today',\n",
       " 'Need help with insurance claim',\n",
       " 'What are the insurance tie ups available',\n",
       " 'I need help with claim settlement',\n",
       " 'Need to undergo diagnosis',\n",
       " 'How much is the lab test',\n",
       " 'When can I get my lab report',\n",
       " 'I am looking for lab tests']"
      ]
     },
     "execution_count": 4,
     "metadata": {},
     "output_type": "execute_result"
    }
   ],
   "source": [
    "#Flattened the utterences\n",
    "corpus_flattened =[]\n",
    "corpus_trans =[]\n",
    "for utterences in intents['utterances']:\n",
    "    for utter in utterences:\n",
    "        corpus_flattened.append(utter)\n",
    "        corpus_trans.append(utter.lower())\n",
    "corpus_flattened"
   ]
  },
  {
   "cell_type": "code",
   "execution_count": 5,
   "id": "6fe1492d",
   "metadata": {},
   "outputs": [
    {
     "data": {
      "text/plain": [
       "matrix([[0.544699  , 0.        , 0.        , 0.        , 0.544699  ,\n",
       "         0.        , 0.47654726, 0.        , 0.        , 0.        ,\n",
       "         0.        , 0.42368467, 0.        , 0.        , 0.        ,\n",
       "         0.        , 0.        , 0.        , 0.        , 0.        ]])"
      ]
     },
     "execution_count": 5,
     "metadata": {},
     "output_type": "execute_result"
    }
   ],
   "source": [
    "#Vectorizer\n",
    "stopwords_list=stopwords.words('english')\n",
    "tf = TfidfVectorizer(max_features=2500, stop_words=stopwords_list)\n",
    "x=tf.fit_transform(corpus_trans)\n",
    "count_dense = x.todense()\n",
    "count_dense[0]"
   ]
  },
  {
   "cell_type": "code",
   "execution_count": 6,
   "id": "93865ac4",
   "metadata": {},
   "outputs": [],
   "source": [
    "def get_match(query):\n",
    "    context=None\n",
    "    for id, match_string in zip(intents.index, intents['utterances']):\n",
    "        if query in match_string:\n",
    "            context = intents['context'][id]\n",
    "    return context"
   ]
  },
  {
   "cell_type": "code",
   "execution_count": 7,
   "id": "f411fd9c",
   "metadata": {},
   "outputs": [
    {
     "data": {
      "text/plain": [
       "'appointment'"
      ]
     },
     "execution_count": 7,
     "metadata": {},
     "output_type": "execute_result"
    }
   ],
   "source": [
    "get_match('I need help with doctor appointment')"
   ]
  },
  {
   "cell_type": "code",
   "execution_count": 8,
   "id": "885af532",
   "metadata": {},
   "outputs": [],
   "source": [
    "def get_item_match(query):\n",
    "    max_score = 0\n",
    "    best_match=None\n",
    "    context=None\n",
    "    y = tf.transform([query.lower()])\n",
    "    max_score = np.max(cosine_similarity(y, count_dense))\n",
    "    if max_score > 0.5:\n",
    "         best_match = corpus_flattened[np.argmax(cosine_similarity(y, count_dense))]\n",
    "         context = get_match(corpus_flattened[np.argmax(cosine_similarity(y, count_dense))])\n",
    "    return max_score, best_match, context"
   ]
  },
  {
   "cell_type": "code",
   "execution_count": 9,
   "id": "0fd4ddde",
   "metadata": {},
   "outputs": [
    {
     "name": "stdout",
     "output_type": "stream",
     "text": [
      "(0.0, None, None)\n",
      "(0.5446990040204331, 'Need help with insurance claim', 'insurance')\n",
      "(0.7799515658651095, 'How much is the lab test', 'lab')\n"
     ]
    }
   ],
   "source": [
    "print(get_item_match('I am 30 years old'))\n",
    "print(get_item_match('i want to CLAIM!'))\n",
    "print(get_item_match('Could you assist me for lab test?'))"
   ]
  },
  {
   "cell_type": "code",
   "execution_count": 10,
   "id": "0f1ce270",
   "metadata": {},
   "outputs": [
    {
     "data": {
      "text/plain": [
       "['fever',\n",
       " 'cardiac',\n",
       " 'inflammation',\n",
       " 'throat pain',\n",
       " 'heart burn',\n",
       " 'head ache',\n",
       " 'allergies',\n",
       " 'conjunctivitis',\n",
       " 'diarrhea',\n",
       " 'stomach ache/pain']"
      ]
     },
     "execution_count": 10,
     "metadata": {},
     "output_type": "execute_result"
    }
   ],
   "source": [
    "diseases = ['fever', 'cardiac', 'inflammation', 'throat pain', 'heart burn', 'head ache', 'allergies', 'conjunctivitis', 'diarrhea', 'stomach ache/pain']\n",
    "diseases"
   ]
  },
  {
   "cell_type": "code",
   "execution_count": 11,
   "id": "84344bef",
   "metadata": {},
   "outputs": [],
   "source": [
    "def detected_disease(query):\n",
    "    if process.extract(query.lower(), diseases)[0][1] >= 70:\n",
    "        disease = process.extract(query, diseases)[0][0].title()\n",
    "    else:\n",
    "        disease = None\n",
    "    return disease"
   ]
  },
  {
   "cell_type": "code",
   "execution_count": 12,
   "id": "02607cef",
   "metadata": {},
   "outputs": [],
   "source": [
    "def duration(query):\n",
    "    doc = nlp(query.lower())\n",
    "    global days\n",
    "    for ent in doc.ents:\n",
    "        if (ent.label_=='DATE') or (ent.label_=='TIME') or (ent.label_=='ORG'):\n",
    "            days = ent.text"
   ]
  },
  {
   "cell_type": "code",
   "execution_count": 13,
   "id": "8cec73d5",
   "metadata": {},
   "outputs": [],
   "source": [
    "def appointment_date(query):\n",
    "    global time\n",
    "    global date\n",
    "    doc = nlp(query)\n",
    "    for ent in doc.ents:\n",
    "        if ent.label_=='DATE' or ent.label_=='EVENT':\n",
    "            date = ent.text\n",
    "        elif ent.label_=='TIME':\n",
    "            time = ent.text"
   ]
  },
  {
   "cell_type": "code",
   "execution_count": 14,
   "id": "61816610",
   "metadata": {},
   "outputs": [],
   "source": [
    "medical_test = ['ct scan', 'blood sugar test', 'urine test', 'cholesterol test', 'ecg', 'eeg']\n",
    "price_list = [5018.00, 360.00, 600.00, 900.00, 3600.00, 1605.00]"
   ]
  },
  {
   "cell_type": "code",
   "execution_count": 15,
   "id": "441b2d8e",
   "metadata": {},
   "outputs": [],
   "source": [
    "def labtest_price(query):\n",
    "    global count\n",
    "    tests_append=[]\n",
    "    if \"all\" in query.lower().split(',') or \"all\" in query.lower().split(', '):\n",
    "        count = 12433.0\n",
    "        tests_append.append(\"All Tests\")\n",
    "        return tests_append\n",
    "    else:\n",
    "        for i, x in enumerate(medical_test):\n",
    "            if x in query.lower().split(',') or x in query.lower().split(', '):\n",
    "                count +=price_list[i]\n",
    "                tests_append.append(x.title())\n",
    "        return tests_append"
   ]
  },
  {
   "cell_type": "code",
   "execution_count": 16,
   "id": "6f3fcc5c",
   "metadata": {},
   "outputs": [],
   "source": [
    "def lab_date(query):\n",
    "    global time_lab\n",
    "    global date_lab\n",
    "    doc = nlp(query.lower())\n",
    "    for ent in doc.ents:\n",
    "        if ent.label_=='DATE':\n",
    "            date_lab = ent.text\n",
    "        elif ent.label_=='TIME':\n",
    "            time_lab = ent.text"
   ]
  },
  {
   "cell_type": "code",
   "execution_count": 17,
   "id": "98648c5e",
   "metadata": {},
   "outputs": [],
   "source": [
    "def amount_to_pay(context):\n",
    "    global pay\n",
    "    if context == 'appointment':\n",
    "        pay = 'Rs. 800'\n",
    "    elif context == 'lab':\n",
    "        pay = 'Rs. '+str(count)\n",
    "    return pay"
   ]
  },
  {
   "cell_type": "code",
   "execution_count": 18,
   "id": "0a0a983f",
   "metadata": {},
   "outputs": [],
   "source": [
    "def get_name_age(query):\n",
    "    global name\n",
    "    global age\n",
    "    doc = nlp(query)\n",
    "    for ent in doc.ents:\n",
    "        if ent.label_ == 'PERSON':\n",
    "            name = ent.text\n",
    "            flag=True\n",
    "        elif ent.label_ == 'DATE':\n",
    "            age = ent.text\n",
    "            return flag\n",
    "    return False"
   ]
  },
  {
   "cell_type": "code",
   "execution_count": 19,
   "id": "44d306b3",
   "metadata": {},
   "outputs": [],
   "source": [
    "def patient_details(query):\n",
    "    global pat_name\n",
    "    global pat_place\n",
    "    global pat_age\n",
    "    doc= nlp(query)\n",
    "    for ent in doc.ents:\n",
    "        if ent.label_ == 'PERSON':\n",
    "            pat_name = ent.text\n",
    "        elif ((ent.label_ == 'LOC') or (ent.label_ == 'GPE')):\n",
    "            pat_place = ent.text\n",
    "        elif ent.label_ == 'DATE':\n",
    "            pat_age = ent.text"
   ]
  },
  {
   "cell_type": "code",
   "execution_count": 20,
   "id": "fe22b70a",
   "metadata": {},
   "outputs": [],
   "source": [
    "def admission_date(query):\n",
    "    global time_adm\n",
    "    global date_adm\n",
    "    global amount\n",
    "    global ward_no\n",
    "    doc = nlp(query.lower())\n",
    "    card=0\n",
    "    for ent in doc.ents:\n",
    "        if ent.label_=='DATE':\n",
    "            date_adm = ent.text.title()\n",
    "        elif ent.label_=='TIME':\n",
    "            time_adm = ent.text.title()\n",
    "        elif ((ent.label_ == 'MONEY') or (ent.label_ == 'CARDINAL')) and card>0:\n",
    "            amount = ent.text.title()\n",
    "        elif ent.label_ == 'CARDINAL':\n",
    "            ward_no = ent.text.title()\n",
    "            card+=1"
   ]
  },
  {
   "cell_type": "code",
   "execution_count": 21,
   "id": "71550111",
   "metadata": {},
   "outputs": [
    {
     "name": "stdout",
     "output_type": "stream",
     "text": [
      "User > Hi\n",
      "Bot > :) Could you tell me your name and age please?\n",
      "User > I am Seetha. I am 30 years old.\n",
      "Bot > :) Hi,  Seetha How can I help you?\n",
      "User > I need to consult doctor\n",
      "Bot > :) Could you tell me your symptoms please?\n",
      "User > I have head ache\n",
      "Bot > :) From how long you have this  Head Ache ?\n",
      "User > from 3 days\n",
      "Bot > :) You have this symptom Head Ache from 3 days\n",
      "Bot > :) Please tell me, what date and time are you looking for an appointment?\n",
      "User > i want an appointment on 02/04/2022 at 4:30 pm\n",
      "\n",
      "Your Appointment Details\n",
      "Name:  Seetha \t Age:  30 years old \n",
      "Disease:  Head Ache \t Duration:  3 days \n",
      "Appointment Date:  02/04/2022 \t Time:  4:30 pm \n",
      "Amount to be paid:  Rs. 800 \n",
      "See You Soon!\n"
     ]
    }
   ],
   "source": [
    "time=None\n",
    "date=None\n",
    "time_adm=None\n",
    "date_adm=None\n",
    "time_lab=None\n",
    "date_lab=None\n",
    "amount=None\n",
    "place=None\n",
    "name=None\n",
    "age=None\n",
    "pay=None\n",
    "disease=None\n",
    "days=None\n",
    "stop = False\n",
    "pat_name=None\n",
    "pat_age=None\n",
    "pat_place=None\n",
    "amount=None\n",
    "ward_no=None\n",
    "limit=0\n",
    "count=0\n",
    "query = input(\"User > \")\n",
    "while not stop:\n",
    "    if(query.lower() == 'exit'):\n",
    "        stop=True\n",
    "    elif name:\n",
    "        if context == 'appointment':\n",
    "            if disease is not None:\n",
    "                if days is not None:\n",
    "                    if date is not None:\n",
    "                        print(\"\\nYour Appointment Details\\nName: \", name, \"\\t Age: \", age, \"\\nDisease: \", disease, \"\\t Duration: \", days, \n",
    "                              \"\\nAppointment Date: \", date, \"\\t Time: \", time, \"\\nAmount to be paid: \", amount_to_pay(context), \"\\nSee You Soon!\")\n",
    "                        stop=True\n",
    "                    else:\n",
    "                        print(\"Bot > :) You have this symptom\", disease, \"from\", days)\n",
    "                        print(\"Bot > :) Please tell me, what date and time are you looking for an appointment?\")\n",
    "                        query = input(\"User > \")\n",
    "                        appointment_date(query)\n",
    "                else:\n",
    "                    print(\"Bot > :) From how long you have this \", disease, \"?\")\n",
    "                    query = input(\"User > \")\n",
    "                    duration(query)\n",
    "            else:\n",
    "                if (limit == 0):\n",
    "                    print(\"Bot > :) Could you tell me your symptoms please?\")\n",
    "                    query = input(\"User > \")\n",
    "                    disease = detected_disease(query)\n",
    "                    limit+=1\n",
    "                elif(limit>=1 and limit <= 2):\n",
    "                    print(\"Bot > :) Could you elaborate the symptom please?\")\n",
    "                    limit+=1\n",
    "                    query = input(\"User > \")\n",
    "                    disease = detected_disease(query)\n",
    "                else:\n",
    "                    print(\"Bot > :) Diagnosis for this symptom is not available in our hospital. Please look for another hospital. Thank you. Have a nice day!\")\n",
    "                    stop=True\n",
    "        elif context == 'lab':\n",
    "            if count!=0:\n",
    "                if date_lab is not None:\n",
    "                    print(\"\\nYour Lab tests Details\\nName: \", name, \"\\t Age: \", age, \"\\nTests: \", tests_append, \"\\nLab Tests Date: \", date_lab,\n",
    "                              \"\\t Time: \", time_lab, \"\\nAmount to be Paid: \", amount_to_pay(context), \"\\nSee You Soon!\")\n",
    "                    stop=True\n",
    "                else:\n",
    "                    print(\"Bot > :) Could tell me what date and time are you looking for labtests?\")\n",
    "                    query = input(\"User > \")\n",
    "                    lab_date(query)\n",
    "            else:\n",
    "                print(\"Bot > :) Are you looking for test or report?\")\n",
    "                query = input(\"User: \")\n",
    "                if process.extract(query.lower(), [\"test\"])[0][1]>=90:\n",
    "                    print(\"Bot > :) Here are the lab tests available in our Hospital\\n\", \", \".join(test for test in medical_test))\n",
    "                    print(\"Bot > :) Could you fill the tests details as prescribed above.\")\n",
    "                    query = input(\"User > \")\n",
    "                    tests_append = labtest_price(query)\n",
    "                    if count!=0:\n",
    "                        print(\"Bot > :) You have to pay: Rs.\", count, \"\\n Is it ok for you?\")\n",
    "                        query =input(\"User > \") \n",
    "                        if (query.lower()!='yes'):\n",
    "                            stop = True\n",
    "                            print(\"Thank You. Have a Nice day!\")\n",
    "                else:\n",
    "                    print(\"Please collect the report from the laboratory.\\nThank You. Have a Nice Day!\")\n",
    "                    stop=True\n",
    "        elif context == 'insurance':\n",
    "            if pat_place is not None:\n",
    "                if amount is not None:\n",
    "                    print(\"Bot > :) The Details of the Patient for Insurance claim are\")\n",
    "                    print(\"\\nPatient Name: \", pat_name, \"\\tAge: \", pat_age, \"\\tPlace: \", pat_place)\n",
    "                    print(\"\\nAdmission Date: \", date_adm, \"\\tTime:\", time_adm, \"\\tWard No:\", ward_no)\n",
    "                    print(\"\\nClaim Amount: \", amount)\n",
    "                    print(\"\\nThe details are forwarded to the Claim Department. Please contact the Claim Department. \\nHave a nice Day!\")\n",
    "                    stop=True\n",
    "                else:\n",
    "                    print(\"Bot > :) Could you give Admission related details such as date, time, ward no and paid amount?\")\n",
    "                    query = input(\"User > \")\n",
    "                    admission_date(query)\n",
    "            else:\n",
    "                if (limit == 0):\n",
    "                    print(\"Bot > :) Could you give the details of the patient, such as name, age, and place to be claimed?\")\n",
    "                    query = input(\"User > \")\n",
    "                    patient_details(query)\n",
    "                    limit+=1\n",
    "                else:\n",
    "                    print(\"Bot > :) Please give the patient's details with the correct place name.\")\n",
    "                    query = input(\"User > \")\n",
    "                    patient_details(query)\n",
    "                    limit+=1\n",
    "        else:\n",
    "            print(\"Bot > :) Could you tell briefly what are you looking for?\")\n",
    "            query = input(\"User > \")\n",
    "            max_score, best_match, context = get_item_match(query)   \n",
    "    else:\n",
    "        if(get_name_age(query)):\n",
    "            print(\"Bot > :) Hi, \", name, \"How can I help you?\")\n",
    "            query = input(\"User > \")\n",
    "            max_score, best_match, context = get_item_match(query)\n",
    "        else:\n",
    "            print(\"Bot > :) Could you tell me your name and age please?\")  \n",
    "            query = input(\"User > \")"
   ]
  }
 ],
 "metadata": {
  "kernelspec": {
   "display_name": "Python 3",
   "language": "python",
   "name": "python3"
  },
  "language_info": {
   "codemirror_mode": {
    "name": "ipython",
    "version": 3
   },
   "file_extension": ".py",
   "mimetype": "text/x-python",
   "name": "python",
   "nbconvert_exporter": "python",
   "pygments_lexer": "ipython3",
   "version": "3.8.8"
  }
 },
 "nbformat": 4,
 "nbformat_minor": 5
}
